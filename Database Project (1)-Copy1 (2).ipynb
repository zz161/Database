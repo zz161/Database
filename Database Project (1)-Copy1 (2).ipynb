{
 "cells": [
  {
   "cell_type": "markdown",
   "metadata": {},
   "source": [
    "# Codes for (Question1-5,9)\n",
    "### Analyzing a Mental Health Dataset\n",
    "\n",
    "\n",
    "#### Team members: ***Frank Xu, Allison Young, Abhishek Angadi, Alan Zhuangdie Zhou***"
   ]
  },
  {
   "cell_type": "code",
   "execution_count": 152,
   "metadata": {
    "collapsed": true
   },
   "outputs": [
    {
     "ename": "ValueError",
     "evalue": "Cannot run multiple SparkContexts at once; existing SparkContext(app=Python Spark SQL basic example, master=local[*]) created by getOrCreate at <ipython-input-2-499f49df3242>:4 ",
     "output_type": "error",
     "traceback": [
      "\u001b[0;31m---------------------------------------------------------------------------\u001b[0m",
      "\u001b[0;31mValueError\u001b[0m                                Traceback (most recent call last)",
      "\u001b[0;32m<ipython-input-152-78fd9547933e>\u001b[0m in \u001b[0;36m<module>\u001b[0;34m\u001b[0m\n\u001b[1;32m      8\u001b[0m \u001b[0;31m# Creating spark context\u001b[0m\u001b[0;34m\u001b[0m\u001b[0;34m\u001b[0m\u001b[0;34m\u001b[0m\u001b[0m\n\u001b[1;32m      9\u001b[0m \u001b[0mconf\u001b[0m \u001b[0;34m=\u001b[0m \u001b[0mpyspark\u001b[0m\u001b[0;34m.\u001b[0m\u001b[0mSparkConf\u001b[0m\u001b[0;34m(\u001b[0m\u001b[0;34m)\u001b[0m\u001b[0;34m.\u001b[0m\u001b[0msetMaster\u001b[0m\u001b[0;34m(\u001b[0m\u001b[0;34m\"local\"\u001b[0m\u001b[0;34m)\u001b[0m\u001b[0;34m.\u001b[0m\u001b[0msetAppName\u001b[0m\u001b[0;34m(\u001b[0m\u001b[0;34m\"Spark Project\"\u001b[0m\u001b[0;34m)\u001b[0m\u001b[0;34m\u001b[0m\u001b[0;34m\u001b[0m\u001b[0m\n\u001b[0;32m---> 10\u001b[0;31m \u001b[0msc\u001b[0m \u001b[0;34m=\u001b[0m \u001b[0mpyspark\u001b[0m\u001b[0;34m.\u001b[0m\u001b[0mSparkContext\u001b[0m\u001b[0;34m(\u001b[0m\u001b[0mconf\u001b[0m \u001b[0;34m=\u001b[0m \u001b[0mconf\u001b[0m\u001b[0;34m)\u001b[0m\u001b[0;34m\u001b[0m\u001b[0;34m\u001b[0m\u001b[0m\n\u001b[0m",
      "\u001b[0;32m~/anaconda3/lib/python3.7/site-packages/pyspark/context.py\u001b[0m in \u001b[0;36m__init__\u001b[0;34m(self, master, appName, sparkHome, pyFiles, environment, batchSize, serializer, conf, gateway, jsc, profiler_cls)\u001b[0m\n\u001b[1;32m    113\u001b[0m         \"\"\"\n\u001b[1;32m    114\u001b[0m         \u001b[0mself\u001b[0m\u001b[0;34m.\u001b[0m\u001b[0m_callsite\u001b[0m \u001b[0;34m=\u001b[0m \u001b[0mfirst_spark_call\u001b[0m\u001b[0;34m(\u001b[0m\u001b[0;34m)\u001b[0m \u001b[0;32mor\u001b[0m \u001b[0mCallSite\u001b[0m\u001b[0;34m(\u001b[0m\u001b[0;32mNone\u001b[0m\u001b[0;34m,\u001b[0m \u001b[0;32mNone\u001b[0m\u001b[0;34m,\u001b[0m \u001b[0;32mNone\u001b[0m\u001b[0;34m)\u001b[0m\u001b[0;34m\u001b[0m\u001b[0;34m\u001b[0m\u001b[0m\n\u001b[0;32m--> 115\u001b[0;31m         \u001b[0mSparkContext\u001b[0m\u001b[0;34m.\u001b[0m\u001b[0m_ensure_initialized\u001b[0m\u001b[0;34m(\u001b[0m\u001b[0mself\u001b[0m\u001b[0;34m,\u001b[0m \u001b[0mgateway\u001b[0m\u001b[0;34m=\u001b[0m\u001b[0mgateway\u001b[0m\u001b[0;34m,\u001b[0m \u001b[0mconf\u001b[0m\u001b[0;34m=\u001b[0m\u001b[0mconf\u001b[0m\u001b[0;34m)\u001b[0m\u001b[0;34m\u001b[0m\u001b[0;34m\u001b[0m\u001b[0m\n\u001b[0m\u001b[1;32m    116\u001b[0m         \u001b[0;32mtry\u001b[0m\u001b[0;34m:\u001b[0m\u001b[0;34m\u001b[0m\u001b[0;34m\u001b[0m\u001b[0m\n\u001b[1;32m    117\u001b[0m             self._do_init(master, appName, sparkHome, pyFiles, environment, batchSize, serializer,\n",
      "\u001b[0;32m~/anaconda3/lib/python3.7/site-packages/pyspark/context.py\u001b[0m in \u001b[0;36m_ensure_initialized\u001b[0;34m(cls, instance, gateway, conf)\u001b[0m\n\u001b[1;32m    312\u001b[0m                         \u001b[0;34m\" created by %s at %s:%s \"\u001b[0m\u001b[0;34m\u001b[0m\u001b[0;34m\u001b[0m\u001b[0m\n\u001b[1;32m    313\u001b[0m                         % (currentAppName, currentMaster,\n\u001b[0;32m--> 314\u001b[0;31m                             callsite.function, callsite.file, callsite.linenum))\n\u001b[0m\u001b[1;32m    315\u001b[0m                 \u001b[0;32melse\u001b[0m\u001b[0;34m:\u001b[0m\u001b[0;34m\u001b[0m\u001b[0;34m\u001b[0m\u001b[0m\n\u001b[1;32m    316\u001b[0m                     \u001b[0mSparkContext\u001b[0m\u001b[0;34m.\u001b[0m\u001b[0m_active_spark_context\u001b[0m \u001b[0;34m=\u001b[0m \u001b[0minstance\u001b[0m\u001b[0;34m\u001b[0m\u001b[0;34m\u001b[0m\u001b[0m\n",
      "\u001b[0;31mValueError\u001b[0m: Cannot run multiple SparkContexts at once; existing SparkContext(app=Python Spark SQL basic example, master=local[*]) created by getOrCreate at <ipython-input-2-499f49df3242>:4 "
     ]
    }
   ],
   "source": [
    "# Please Install package findspark and pyspark from your terminal if you have not\n",
    "#import findspark\n",
    "\n",
    "# Please replace the directory to your own one for spark\n",
    "#findspark.init('/Users/frank/workspace/spark-2.4.0-bin-hadoop2.7/')\n",
    "import pyspark\n",
    "\n",
    "# Creating spark context\n",
    "conf = pyspark.SparkConf().setMaster(\"local\").setAppName(\"Spark Project\")\n",
    "sc = pyspark.SparkContext(conf = conf)"
   ]
  },
  {
   "cell_type": "code",
   "execution_count": 153,
   "metadata": {},
   "outputs": [
    {
     "ename": "NameError",
     "evalue": "name 'sc' is not defined",
     "output_type": "error",
     "traceback": [
      "\u001b[0;31m---------------------------------------------------------------------------\u001b[0m",
      "\u001b[0;31mNameError\u001b[0m                                 Traceback (most recent call last)",
      "\u001b[0;32m<ipython-input-153-1df43e8de021>\u001b[0m in \u001b[0;36m<module>\u001b[0;34m\u001b[0m\n\u001b[1;32m      1\u001b[0m \u001b[0;31m# Reading in all the data\u001b[0m\u001b[0;34m\u001b[0m\u001b[0;34m\u001b[0m\u001b[0;34m\u001b[0m\u001b[0m\n\u001b[0;32m----> 2\u001b[0;31m \u001b[0mbg\u001b[0m \u001b[0;34m=\u001b[0m \u001b[0msc\u001b[0m\u001b[0;34m.\u001b[0m\u001b[0mtextFile\u001b[0m\u001b[0;34m(\u001b[0m\u001b[0;34m\"VDL2011_Background.txt\"\u001b[0m\u001b[0;34m)\u001b[0m\u001b[0;34m\u001b[0m\u001b[0;34m\u001b[0m\u001b[0m\n\u001b[0m\u001b[1;32m      3\u001b[0m \u001b[0mmd\u001b[0m \u001b[0;34m=\u001b[0m \u001b[0msc\u001b[0m\u001b[0;34m.\u001b[0m\u001b[0mtextFile\u001b[0m\u001b[0;34m(\u001b[0m\u001b[0;34m\"VDL2011_Meds.txt\"\u001b[0m\u001b[0;34m)\u001b[0m\u001b[0;34m\u001b[0m\u001b[0;34m\u001b[0m\u001b[0m\n\u001b[1;32m      4\u001b[0m \u001b[0mpd\u001b[0m \u001b[0;34m=\u001b[0m \u001b[0msc\u001b[0m\u001b[0;34m.\u001b[0m\u001b[0mtextFile\u001b[0m\u001b[0;34m(\u001b[0m\u001b[0;34m\"VDL2011_PDiagnose.txt\"\u001b[0m\u001b[0;34m)\u001b[0m\u001b[0;34m\u001b[0m\u001b[0;34m\u001b[0m\u001b[0m\n\u001b[1;32m      5\u001b[0m \u001b[0mcgi\u001b[0m \u001b[0;34m=\u001b[0m \u001b[0msc\u001b[0m\u001b[0;34m.\u001b[0m\u001b[0mtextFile\u001b[0m\u001b[0;34m(\u001b[0m\u001b[0;34m\"VDL2011_CGI.txt\"\u001b[0m\u001b[0;34m)\u001b[0m\u001b[0;34m\u001b[0m\u001b[0;34m\u001b[0m\u001b[0m\n",
      "\u001b[0;31mNameError\u001b[0m: name 'sc' is not defined"
     ]
    }
   ],
   "source": [
    "# Reading in all the data\n",
    "bg = sc.textFile(\"VDL2011_Background.txt\")\n",
    "md = sc.textFile(\"VDL2011_Meds.txt\")\n",
    "pd = sc.textFile(\"VDL2011_PDiagnose.txt\")\n",
    "cgi = sc.textFile(\"VDL2011_CGI.txt\")\n",
    "ps = sc.textFile(\"VDL2011_Patient_Service.txt\")\n",
    "tp = sc.textFile(\"VDL2011_TypePatient.txt\")\n",
    "\n",
    "# Please only run this chunk one time\n",
    "# If it returns a Value Error saying cannot run multiple SparkContexts at once, \n",
    "# just run the last chunk of this page: sc.stop() to stop this sc,\n",
    "# Then go back to this chunk"
   ]
  },
  {
   "cell_type": "code",
   "execution_count": 3,
   "metadata": {},
   "outputs": [
    {
     "name": "stdout",
     "output_type": "stream",
     "text": [
      "Number of hospitals represented in the data is: 17\n",
      "Average patient per hospital: 10844.823529411764\n",
      "The hospital with minimum patients is eleanor2, with 240 patients.\n",
      "The hospital with maximum patients is Duke, with 65443 patients.\n"
     ]
    }
   ],
   "source": [
    "# Question 2\n",
    "# Basic descriptive statistics: How many hospitals are represented in the data? \n",
    "# What is the average number of patients per hospital? Minimum and maximum?\n",
    "\n",
    "# Mapping\n",
    "def q2map(s):\n",
    "    temp = s.split(',')\n",
    "    return temp[0], 1\n",
    "\n",
    "uniquehosp = bg.map(q2map).reduceByKey(lambda a,b: a+b).sortBy(lambda x:x[1]).collect()\n",
    "\n",
    "# Calculating and printing the average patients per hospital\n",
    "patientcount = bg.count()\n",
    "hospitalcount = len(uniquehosp) -1\n",
    "print('Number of hospitals represented in the data is:',hospitalcount)\n",
    "print('Average patient per hospital: {}'.format(patientcount/hospitalcount))\n",
    "print('The hospital with minimum patients is {}, with {} patients.'.format(uniquehosp[1][0], uniquehosp[1][1]))\n",
    "print('The hospital with maximum patients is {}, with {} patients.'.format(uniquehosp[-1][0], uniquehosp[-1][1]))\n"
   ]
  },
  {
   "cell_type": "code",
   "execution_count": 77,
   "metadata": {},
   "outputs": [
    {
     "name": "stdout",
     "output_type": "stream",
     "text": [
      "The number of depression or depression related diagnosis is: 90814\n"
     ]
    }
   ],
   "source": [
    "# Question 3\n",
    "# Our study has decided to focus on depression and depression-related conditions\n",
    "# (Bipolar Disorder, Dysthymic Disorder, etc.).  \n",
    "# How many of the patients have a depression or depression related diagnosis?\n",
    "\n",
    "# Mapper function\n",
    "def q3map(s):\n",
    "    temp = s.split(',')\n",
    "    return temp[0]+temp[1],temp[4]\n",
    "\n",
    "# Running map-filter-reducer\n",
    "depressed = pd.map(q3map).filter(lambda x:'296'in x[1].split('.')[0] or '300'in x[1].split('.')[0]or '301.1'in x[1] or '311'in x[1].split('.')[0]).reduceByKey(lambda a,b:a+b).collect()\n",
    "# What string do we want?\n",
    "#Sum up all the depression or depression related diagnosis\n",
    "print('The number of depression or depression related diagnosis is:',len(depressed)-1)"
   ]
  },
  {
   "cell_type": "code",
   "execution_count": 5,
   "metadata": {},
   "outputs": [
    {
     "name": "stdout",
     "output_type": "stream",
     "text": [
      "There are 416 unique psych drugs in the data.\n"
     ]
    }
   ],
   "source": [
    "# Question 4\n",
    "# How many unique Psych drugs are in the data (check the “PsyMed” column)?\n",
    "import string\n",
    "# Mapper\n",
    "def q4map(s):\n",
    "    temp = s.split(',')\n",
    "    return temp[5]+' |'+temp[25],1\n",
    "import string\n",
    "# Run map-reducer\n",
    "psymed = md.map(q4map).filter(lambda x: 'Yes' in x[0]).reduceByKey(lambda a,b:a+b).sortBy(lambda x:x[0]).collect()\n",
    "# Find the unique Psych drugs numbers\n",
    "uniquepsych = set([x[0].split(\" \")[0].lower().strip(string.punctuation) for x in psymed])\n",
    "uniquepsych2 = set([x.split(\"-\")[0] for x in uniquepsych])\n",
    "print('There are {} unique psych drugs in the data.'.format(len(uniquepsych2)-1))"
   ]
  },
  {
   "cell_type": "code",
   "execution_count": 82,
   "metadata": {},
   "outputs": [
    {
     "data": {
      "text/plain": [
       "2672"
      ]
     },
     "execution_count": 82,
     "metadata": {},
     "output_type": "execute_result"
    }
   ],
   "source": [
    "len(psymed)"
   ]
  },
  {
   "cell_type": "code",
   "execution_count": null,
   "metadata": {},
   "outputs": [],
   "source": [
    "# Question 5 \n",
    "# Let’s start getting some useful results. \n",
    "# What are the most common psych meds for patients with Major Depressive Disorder? \n",
    "# For any diagnosis related to depression? What about Cyclothymia?\n"
   ]
  },
  {
   "cell_type": "code",
   "execution_count": 120,
   "metadata": {},
   "outputs": [],
   "source": [
    "def q5map1(s):\n",
    "    temp = s.split(',')\n",
    "    return temp[0]+'|'+temp[1]+'|'+temp[2],temp[4]\n",
    "\n",
    "pdset = pd.map(q5map1).filter(lambda x:'296'in x[1].split('.')[0] and \n",
    "    int(x[1].split('|')[0].split('.')[1]) in range(20,37)).reduceByKey(lambda a,b:a+b)"
   ]
  },
  {
   "cell_type": "code",
   "execution_count": 28,
   "metadata": {
    "scrolled": true
   },
   "outputs": [],
   "source": [
    "def q5map2(s):\n",
    "    temp = s.split(',')\n",
    "    return temp[0]+'|'+temp[1]+'|'+temp[2],temp[25]+'|'+temp[5].lower()\n",
    "\n",
    "mdset = md.map(q5map2).filter(lambda x: 'Yes' in x[1])"
   ]
  },
  {
   "cell_type": "code",
   "execution_count": 29,
   "metadata": {},
   "outputs": [],
   "source": [
    "pdmdjoined = pdset.join(mdset)"
   ]
  },
  {
   "cell_type": "code",
   "execution_count": 117,
   "metadata": {},
   "outputs": [
    {
     "data": {
      "text/plain": [
       "[('ArapahoeHouse|225|143580', ('296.33', 'Yes|prozac-solution')),\n",
       " ('ArapahoeHouse|225|143580', ('296.33', 'Yes|neurontin')),\n",
       " ('ArapahoeHouse|225|224900', ('296.33', 'Yes|prozac')),\n",
       " ('ArapahoeHouse|225|224900', ('296.33', 'Yes|neurontin')),\n",
       " ('ArapahoeHouse|3001|318497', ('296.22', 'Yes|clorazepate')),\n",
       " ('ArapahoeHouse|3001|318497', ('296.22', 'Yes|prozac')),\n",
       " ('ArapahoeHouse|3771|148481', ('296.32', 'Yes|amitriptyline')),\n",
       " ('ArapahoeHouse|3771|148481', ('296.32', 'Yes|bupropion')),\n",
       " ('ArapahoeHouse|3771|148481', ('296.32', 'Yes|levothyroxine sodium')),\n",
       " ('ArapahoeHouse|4460|173084', ('296.34', 'Yes|fluoxetine hcl'))]"
      ]
     },
     "execution_count": 117,
     "metadata": {},
     "output_type": "execute_result"
    }
   ],
   "source": [
    "pdmdjoined.take(10)"
   ]
  },
  {
   "cell_type": "code",
   "execution_count": 32,
   "metadata": {},
   "outputs": [],
   "source": [
    "def q5map3(s):\n",
    "    for i in range(0,len(s)):\n",
    "        return s[1][1],1\n",
    "\n",
    "drugs = pdmdjoined.map(q5map3).reduceByKey(lambda a,b:a+b)"
   ]
  },
  {
   "cell_type": "code",
   "execution_count": 33,
   "metadata": {},
   "outputs": [
    {
     "data": {
      "text/plain": [
       "[('Yes|paxil 20mg titr', 62),\n",
       " ('Yes|vistaril', 9608),\n",
       " ('Yes|haldol', 8642),\n",
       " ('Yes|abilify solution', 102),\n",
       " ('Yes|venlafaxine', 1262),\n",
       " ('Yes|ativan-inj', 279),\n",
       " ('Yes|duragesic', 474),\n",
       " ('Yes|risperdal 1mg hs', 21),\n",
       " ('Yes|atarax 30-50mg hs prn', 6),\n",
       " ('Yes|acetaminophen; codeine', 11)]"
      ]
     },
     "execution_count": 33,
     "metadata": {},
     "output_type": "execute_result"
    }
   ],
   "source": [
    "drugs.take(10)"
   ]
  },
  {
   "cell_type": "code",
   "execution_count": 37,
   "metadata": {},
   "outputs": [],
   "source": [
    "def q5map4(s):\n",
    "    for i in range(0,len(s)):\n",
    "        return s[0].split('|')[1].split(' ')[0],s[1]\n",
    "    \n",
    "drugs1 = drugs.map(q5map4).reduceByKey(lambda a,b:a+b)"
   ]
  },
  {
   "cell_type": "code",
   "execution_count": 42,
   "metadata": {
    "scrolled": true
   },
   "outputs": [
    {
     "data": {
      "text/plain": [
       "[('mirtazapine', 6070),\n",
       " ('buspar', 13743),\n",
       " ('benadryl-syrup', 9),\n",
       " ('methylphenidate-sa', 21),\n",
       " ('carbamazepine', 416),\n",
       " ('diphenhydramine-inj', 7),\n",
       " ('marplan', 60),\n",
       " ('cylert', 2),\n",
       " ('parlodel', 72),\n",
       " ('elavil', 3772)]"
      ]
     },
     "execution_count": 42,
     "metadata": {},
     "output_type": "execute_result"
    }
   ],
   "source": [
    "drugs1.take(10)"
   ]
  },
  {
   "cell_type": "code",
   "execution_count": 46,
   "metadata": {},
   "outputs": [],
   "source": [
    "def q5map5(s):\n",
    "    for i in range(0,len(s)):\n",
    "        return s[0].split('-')[0],s[1]\n",
    "    \n",
    "drugs2 = drugs1.map(q5map5).reduceByKey(lambda a,b:a+b).sortBy(lambda x:x[1],ascending=False).collect()"
   ]
  },
  {
   "cell_type": "code",
   "execution_count": 51,
   "metadata": {},
   "outputs": [
    {
     "data": {
      "text/plain": [
       "[('seroquel', 78860),\n",
       " ('ambien', 76890),\n",
       " ('trazodone', 73810),\n",
       " ('lexapro', 73139),\n",
       " ('klonopin', 72800),\n",
       " ('zoloft', 72048),\n",
       " ('abilify', 64320),\n",
       " ('wellbutrin', 61768),\n",
       " ('prozac', 58787),\n",
       " ('effexor', 51494)]"
      ]
     },
     "execution_count": 51,
     "metadata": {},
     "output_type": "execute_result"
    }
   ],
   "source": [
    "drugs2[0:10]"
   ]
  },
  {
   "cell_type": "code",
   "execution_count": 48,
   "metadata": {},
   "outputs": [
    {
     "name": "stdout",
     "output_type": "stream",
     "text": [
      "The most common psych meds for patients with Major Depressive Disorder is: seroquel\n"
     ]
    }
   ],
   "source": [
    "print('The most common psych meds for patients with Major Depressive Disorder is:',drugs2[0][0])"
   ]
  },
  {
   "cell_type": "code",
   "execution_count": 66,
   "metadata": {},
   "outputs": [],
   "source": [
    "def q5map11(s):\n",
    "    temp = s.split(',')\n",
    "    return temp[0]+'|'+temp[1]+'|'+temp[2],temp[4]\n",
    "\n",
    "pdset2 = pd.map(q5map11).filter(lambda x:'296'in x[1].split('.')[0] or '300'in x[1].split('.')[0]or '301.1'in x[1] or '311'in x[1].split('.')[0]).reduceByKey(lambda a,b:a+b)"
   ]
  },
  {
   "cell_type": "code",
   "execution_count": 69,
   "metadata": {},
   "outputs": [],
   "source": [
    "pdmdjoined2 = pdset2.join(mdset)"
   ]
  },
  {
   "cell_type": "code",
   "execution_count": 70,
   "metadata": {},
   "outputs": [],
   "source": [
    "drugs11 = pdmdjoined2.map(q5map3).reduceByKey(lambda a,b:a+b)"
   ]
  },
  {
   "cell_type": "code",
   "execution_count": 72,
   "metadata": {},
   "outputs": [
    {
     "data": {
      "text/plain": [
       "[('Yes|haldol', 28080),\n",
       " ('Yes|vistaril', 21516),\n",
       " ('Yes|paxil 20mg titr', 192),\n",
       " ('Yes|duragesic', 739),\n",
       " ('Yes|ativan-inj', 715),\n",
       " ('Yes|abilify solution', 480),\n",
       " ('Yes|venlafaxine', 2311),\n",
       " ('Yes|risperdal 1mg hs', 21),\n",
       " ('Yes|acetaminophen; codeine', 54),\n",
       " ('Yes|atarax 30-50mg hs prn', 6)]"
      ]
     },
     "execution_count": 72,
     "metadata": {},
     "output_type": "execute_result"
    }
   ],
   "source": [
    "drugs11.take(10)"
   ]
  },
  {
   "cell_type": "code",
   "execution_count": 73,
   "metadata": {},
   "outputs": [],
   "source": [
    "drugs22 = drugs11.map(q5map4).reduceByKey(lambda a,b:a+b)"
   ]
  },
  {
   "cell_type": "code",
   "execution_count": 74,
   "metadata": {},
   "outputs": [
    {
     "data": {
      "text/plain": [
       "[('buspar', 31156),\n",
       " ('mirtazapine', 8458),\n",
       " ('carbamazepine', 2773),\n",
       " ('benadryl-syrup', 111),\n",
       " ('methylphenidate-sa', 75),\n",
       " ('innopran', 6),\n",
       " ('diphenhydramine-inj', 12),\n",
       " ('elavil', 8079),\n",
       " ('marplan', 63),\n",
       " ('cylert', 180)]"
      ]
     },
     "execution_count": 74,
     "metadata": {},
     "output_type": "execute_result"
    }
   ],
   "source": [
    "drugs22.take(10)"
   ]
  },
  {
   "cell_type": "code",
   "execution_count": 75,
   "metadata": {},
   "outputs": [],
   "source": [
    "drugs33 = drugs22.map(q5map5).reduceByKey(lambda a,b:a+b).sortBy(lambda x:x[1],ascending=False).collect()"
   ]
  },
  {
   "cell_type": "code",
   "execution_count": 77,
   "metadata": {},
   "outputs": [
    {
     "data": {
      "text/plain": [
       "[('seroquel', 228070),\n",
       " ('abilify', 174841),\n",
       " ('klonopin', 165965),\n",
       " ('ambien', 149375),\n",
       " ('trazodone', 149242),\n",
       " ('zoloft', 135880),\n",
       " ('lexapro', 135185),\n",
       " ('depakote', 121058),\n",
       " ('risperdal', 107547),\n",
       " ('prozac', 107355)]"
      ]
     },
     "execution_count": 77,
     "metadata": {},
     "output_type": "execute_result"
    }
   ],
   "source": [
    "drugs33[0:10]"
   ]
  },
  {
   "cell_type": "code",
   "execution_count": 78,
   "metadata": {},
   "outputs": [
    {
     "name": "stdout",
     "output_type": "stream",
     "text": [
      "The most common psych meds for patients with any diagnosis related to depression is: seroquel\n"
     ]
    }
   ],
   "source": [
    "print('The most common psych meds for patients with any diagnosis related to depression is:',drugs33[0][0])"
   ]
  },
  {
   "cell_type": "code",
   "execution_count": 79,
   "metadata": {},
   "outputs": [],
   "source": [
    "def q5map111(s):\n",
    "    temp = s.split(',')\n",
    "    return temp[0]+'|'+temp[1]+'|'+temp[2],temp[4]\n",
    "\n",
    "pdset3 = pd.map(q5map111).filter(lambda x:'301.1'in x[1]).reduceByKey(lambda a,b:a+b)"
   ]
  },
  {
   "cell_type": "code",
   "execution_count": 80,
   "metadata": {},
   "outputs": [
    {
     "data": {
      "text/plain": [
       "[('Columbia|2553|30898', '301.13'),\n",
       " ('Columbia|3328|36946', '301.13'),\n",
       " ('Columbia|3502|35498', '301.13'),\n",
       " ('Columbia|3854|9218', '301.13'),\n",
       " ('Columbia|3854|40487', '301.13'),\n",
       " ('Columbia|6399|20240', '301.13'),\n",
       " ('Duke|2296|182173', '301.13'),\n",
       " ('Duke|2296|352929', '301.13'),\n",
       " ('Duke|10616|163133', '301.13'),\n",
       " ('Duke|17849|332705', '301.13')]"
      ]
     },
     "execution_count": 80,
     "metadata": {},
     "output_type": "execute_result"
    }
   ],
   "source": [
    "pdset3.take(10)"
   ]
  },
  {
   "cell_type": "code",
   "execution_count": 81,
   "metadata": {},
   "outputs": [],
   "source": [
    "pdmdjoined3 = pdset3.join(mdset)"
   ]
  },
  {
   "cell_type": "code",
   "execution_count": 82,
   "metadata": {},
   "outputs": [],
   "source": [
    "drugs111 = pdmdjoined3.map(q5map3).reduceByKey(lambda a,b:a+b)"
   ]
  },
  {
   "cell_type": "code",
   "execution_count": 83,
   "metadata": {},
   "outputs": [
    {
     "data": {
      "text/plain": [
       "[('Yes|haldol', 144),\n",
       " ('Yes|abilify solution', 27),\n",
       " ('Yes|vistaril', 1),\n",
       " ('Yes|trileptal', 63),\n",
       " ('Yes|methylin er', 8),\n",
       " ('Yes|benztropine', 6),\n",
       " ('Yes|moban', 1),\n",
       " ('Yes|risperdal', 187),\n",
       " ('Yes|oxycontin', 14),\n",
       " ('Yes|cymbalta', 62)]"
      ]
     },
     "execution_count": 83,
     "metadata": {},
     "output_type": "execute_result"
    }
   ],
   "source": [
    "drugs111.take(10)"
   ]
  },
  {
   "cell_type": "code",
   "execution_count": 84,
   "metadata": {},
   "outputs": [],
   "source": [
    "drugs222 = drugs111.map(q5map4).reduceByKey(lambda a,b:a+b)"
   ]
  },
  {
   "cell_type": "code",
   "execution_count": 85,
   "metadata": {},
   "outputs": [
    {
     "data": {
      "text/plain": [
       "[('buspar', 251),\n",
       " ('carbamazepine', 1),\n",
       " ('elavil', 46),\n",
       " ('doxepin', 3),\n",
       " ('clorazepate', 45),\n",
       " ('oxycodone;', 5),\n",
       " ('wellbutrin-sr', 22),\n",
       " ('anafranil', 26),\n",
       " ('sertraline', 8),\n",
       " ('strattera', 151)]"
      ]
     },
     "execution_count": 85,
     "metadata": {},
     "output_type": "execute_result"
    }
   ],
   "source": [
    "drugs222.take(10)"
   ]
  },
  {
   "cell_type": "code",
   "execution_count": 86,
   "metadata": {},
   "outputs": [],
   "source": [
    "drugs333 = drugs222.map(q5map5).reduceByKey(lambda a,b:a+b).sortBy(lambda x:x[1],ascending=False).collect()"
   ]
  },
  {
   "cell_type": "code",
   "execution_count": 87,
   "metadata": {},
   "outputs": [
    {
     "data": {
      "text/plain": [
       "[('abilify', 1268),\n",
       " ('concerta', 896),\n",
       " ('lamictal', 818),\n",
       " ('vyvanse', 739),\n",
       " ('risperdal', 683),\n",
       " ('prozac', 624),\n",
       " ('seroquel', 623),\n",
       " ('klonopin', 617),\n",
       " ('zoloft', 545),\n",
       " ('trazodone', 506)]"
      ]
     },
     "execution_count": 87,
     "metadata": {},
     "output_type": "execute_result"
    }
   ],
   "source": [
    "drugs333[0:10]"
   ]
  },
  {
   "cell_type": "code",
   "execution_count": 88,
   "metadata": {},
   "outputs": [
    {
     "name": "stdout",
     "output_type": "stream",
     "text": [
      "The most common psych meds for patients with Cyclothymia is: abilify\n"
     ]
    }
   ],
   "source": [
    "print('The most common psych meds for patients with Cyclothymia is:',drugs333[0][0])"
   ]
  },
  {
   "cell_type": "code",
   "execution_count": null,
   "metadata": {},
   "outputs": [],
   "source": [
    "# Question 6 \n",
    "# Similarly, what are the most common drugs prescribed in patients diagnosed with Bipolar Disorder? \n",
    "# Does this vary appreciably by hospital?"
   ]
  },
  {
   "cell_type": "code",
   "execution_count": 94,
   "metadata": {},
   "outputs": [],
   "source": [
    "def q6map1(s):\n",
    "    temp = s.split(',')\n",
    "    return temp[0]+'|'+temp[1]+'|'+temp[2],temp[4]\n",
    "\n",
    "pd6set1 = pd.map(q6map1).filter(lambda x:('296'in x[1].split('.')[0] and \n",
    "    int(x[1].split('|')[0].split('.')[1]) in range(40,67)) or ('296'in x[1].split('.')[0] and \n",
    "    int(x[1].split('|')[0].split('.')[1]) in range(7,9))or ('296'in x[1].split('.')[0] and \n",
    "    int(x[1].split('|')[0].split('.')[1])== '89')).reduceByKey(lambda a,b:a+b)"
   ]
  },
  {
   "cell_type": "code",
   "execution_count": 97,
   "metadata": {},
   "outputs": [
    {
     "data": {
      "text/plain": [
       "[('ArapahoeHouse|62|69698', '296.7'),\n",
       " ('ArapahoeHouse|62|132304', '296.7'),\n",
       " ('ArapahoeHouse|62|281418', '296.7'),\n",
       " ('ArapahoeHouse|548|312035', '296.7'),\n",
       " ('ArapahoeHouse|672|132586', '296.7'),\n",
       " ('ArapahoeHouse|672|235750', '296.7'),\n",
       " ('ArapahoeHouse|672|282814', '296.7'),\n",
       " ('ArapahoeHouse|1574|4927', '296.54'),\n",
       " ('ArapahoeHouse|1574|23427', '296.54'),\n",
       " ('ArapahoeHouse|1574|23617', '296.54')]"
      ]
     },
     "execution_count": 97,
     "metadata": {},
     "output_type": "execute_result"
    }
   ],
   "source": [
    "pd6set1.take(10)"
   ]
  },
  {
   "cell_type": "code",
   "execution_count": 99,
   "metadata": {},
   "outputs": [],
   "source": [
    "pdmd6joined1 = pd6set1.join(mdset)"
   ]
  },
  {
   "cell_type": "code",
   "execution_count": 101,
   "metadata": {},
   "outputs": [],
   "source": [
    "drugs61 = pdmd6joined1.map(q5map3).reduceByKey(lambda a,b:a+b)"
   ]
  },
  {
   "cell_type": "code",
   "execution_count": 103,
   "metadata": {},
   "outputs": [
    {
     "data": {
      "text/plain": [
       "[('Yes|vistaril', 3955),\n",
       " ('Yes|haldol', 10884),\n",
       " ('Yes|ativan-inj', 271),\n",
       " ('Yes|venlafaxine', 126),\n",
       " ('Yes|acetaminophen; codeine', 39),\n",
       " ('Yes|zyprexa-zydis', 12),\n",
       " ('Yes|clomipramine 50mg', 25),\n",
       " ('Yes|abilify solution', 9),\n",
       " ('Yes|paxil 20mg titr', 9),\n",
       " ('Yes|duragesic', 3)]"
      ]
     },
     "execution_count": 103,
     "metadata": {},
     "output_type": "execute_result"
    }
   ],
   "source": [
    "drugs61.take(10)"
   ]
  },
  {
   "cell_type": "code",
   "execution_count": 104,
   "metadata": {},
   "outputs": [],
   "source": [
    "drugs62 = drugs61.map(q5map4).reduceByKey(lambda a,b:a+b)"
   ]
  },
  {
   "cell_type": "code",
   "execution_count": 105,
   "metadata": {},
   "outputs": [
    {
     "data": {
      "text/plain": [
       "[('buspar', 3532),\n",
       " ('mirtazapine', 419),\n",
       " ('carbamazepine', 962),\n",
       " ('diphenhydramine-inj', 7),\n",
       " ('marplan', 1),\n",
       " ('cylert', 17),\n",
       " ('parlodel', 1),\n",
       " ('elavil', 785),\n",
       " ('doxepin', 872),\n",
       " ('clorazepate', 573)]"
      ]
     },
     "execution_count": 105,
     "metadata": {},
     "output_type": "execute_result"
    }
   ],
   "source": [
    "drugs62.take(10)"
   ]
  },
  {
   "cell_type": "code",
   "execution_count": 106,
   "metadata": {},
   "outputs": [],
   "source": [
    "drugs63 = drugs62.map(q5map5).reduceByKey(lambda a,b:a+b).sortBy(lambda x:x[1],ascending=False).collect()"
   ]
  },
  {
   "cell_type": "code",
   "execution_count": 108,
   "metadata": {},
   "outputs": [
    {
     "data": {
      "text/plain": [
       "[('seroquel', 60193),\n",
       " ('depakote', 51953),\n",
       " ('abilify', 41831),\n",
       " ('lithium', 37537),\n",
       " ('lamictal', 35362),\n",
       " ('klonopin', 31495),\n",
       " ('risperdal', 27640),\n",
       " ('trazodone', 25997),\n",
       " ('ambien', 23530),\n",
       " ('zyprexa', 20209)]"
      ]
     },
     "execution_count": 108,
     "metadata": {},
     "output_type": "execute_result"
    }
   ],
   "source": [
    "drugs63[0:10]"
   ]
  },
  {
   "cell_type": "code",
   "execution_count": 109,
   "metadata": {},
   "outputs": [
    {
     "name": "stdout",
     "output_type": "stream",
     "text": [
      "The most common psych meds for patients with Bipolar Disorder is: seroquel\n"
     ]
    }
   ],
   "source": [
    "print('The most common psych meds for patients with Bipolar Disorder is:',drugs63[0][0])"
   ]
  },
  {
   "cell_type": "code",
   "execution_count": 145,
   "metadata": {},
   "outputs": [
    {
     "data": {
      "text/plain": [
       "[('ArapahoeHouse|3|36581', 'clorazepate'),\n",
       " ('ArapahoeHouse|3|57245', 'clorazepate'),\n",
       " ('ArapahoeHouse|3|67801', 'clorazepate'),\n",
       " ('ArapahoeHouse|3|91441', 'clorazepate'),\n",
       " ('ArapahoeHouse|3|93834', 'clorazepate'),\n",
       " ('ArapahoeHouse|3|105206', 'clorazepate'),\n",
       " ('ArapahoeHouse|3|113172', 'clorazepate'),\n",
       " ('ArapahoeHouse|3|154609', 'clorazepate'),\n",
       " ('ArapahoeHouse|3|166231', 'clorazepate'),\n",
       " ('ArapahoeHouse|3|188298', 'clorazepate')]"
      ]
     },
     "execution_count": 145,
     "metadata": {},
     "output_type": "execute_result"
    }
   ],
   "source": [
    "def q6map21(s):\n",
    "    for i in range(0,len(s)):\n",
    "        return s[0],s[1].split('|')[1].split(' ')[0]\n",
    "\n",
    "def q6map22(s):\n",
    "    for i in range(0,len(s)):\n",
    "        return s[0],s[1].split('-')[0]\n",
    "\n",
    "mdset1 = mdset.map(q6map21)\n",
    "mdset2 = mdset1.map(q6map22)\n",
    "mdset2.take(10)"
   ]
  },
  {
   "cell_type": "code",
   "execution_count": 146,
   "metadata": {},
   "outputs": [],
   "source": [
    "pdmd6joined2 = pd6set1.join(mdset2)"
   ]
  },
  {
   "cell_type": "code",
   "execution_count": 149,
   "metadata": {},
   "outputs": [
    {
     "data": {
      "text/plain": [
       "[('ArapahoeHouse|1574|4927', ('296.54', 'abilify')),\n",
       " ('ArapahoeHouse|1574|4927', ('296.54', 'tramadol')),\n",
       " ('ArapahoeHouse|2587|31120', ('296.7', 'citalopram')),\n",
       " ('ArapahoeHouse|2587|31120', ('296.7', 'clorazepate')),\n",
       " ('ArapahoeHouse|2587|31120', ('296.7', 'depakote')),\n",
       " ('ArapahoeHouse|2587|31120', ('296.7', 'seroquel')),\n",
       " ('ArapahoeHouse|2587|186150', ('296.7', 'citalopram')),\n",
       " ('ArapahoeHouse|2587|186150', ('296.7', 'clorazepate')),\n",
       " ('ArapahoeHouse|2587|186150', ('296.7', 'depakote')),\n",
       " ('ArapahoeHouse|2587|186150', ('296.7', 'seroquel'))]"
      ]
     },
     "execution_count": 149,
     "metadata": {},
     "output_type": "execute_result"
    }
   ],
   "source": [
    "pdmd6joined2.take(10)"
   ]
  },
  {
   "cell_type": "code",
   "execution_count": 182,
   "metadata": {},
   "outputs": [],
   "source": [
    "def q6map22(s):\n",
    "    for i in range(0,len(s)):\n",
    "        return s[0].split('|')[0]+'|'+s[1][1],1\n",
    "\n",
    "hosdrug = pdmd6joined2.map(q6map22).reduceByKey(lambda a,b:a+b).sortBy(lambda x:x[0].split('|')[0]).collect()"
   ]
  },
  {
   "cell_type": "code",
   "execution_count": 227,
   "metadata": {},
   "outputs": [],
   "source": [
    "hos0 = hosdrug[0][0].split('|')[0]\n",
    "nummax = hosdrug[0][1]\n",
    "maxdrug = hosdrug[0][0].split('|')[1]\n",
    "lst = []\n",
    "for i in range(0,len(hosdrug)):\n",
    "    hos = hosdrug[i][0].split('|')[0]\n",
    "    num = hosdrug[i][1]\n",
    "    if hos0 == hos and num > nummax:\n",
    "        nummax = num\n",
    "        maxdrug = hosdrug[i][0].split('|')[1]\n",
    "    elif hos0 != hos:\n",
    "        lst.append((hos0,maxdrug,nummax))\n",
    "        hos0 = hos\n",
    "        nummax = hosdrug[i][1]\n",
    "    else:\n",
    "        pass"
   ]
  },
  {
   "cell_type": "code",
   "execution_count": 228,
   "metadata": {},
   "outputs": [
    {
     "data": {
      "text/plain": [
       "[('ArapahoeHouse', 'abilify', 556),\n",
       " ('Boulder County', 'abilify', 24),\n",
       " ('CampagnaAcademy', 'vyvanse', 1359),\n",
       " ('Columbia', 'lithium', 1591),\n",
       " ('Duke', 'depakote', 7065),\n",
       " ('DukeCCFH', 'abilify', 120),\n",
       " ('GrantBlackford', 'abilify', 2824),\n",
       " ('LifeSpring', 'seroquel', 8441),\n",
       " ('MONTEPROD', 'depakote', 7249),\n",
       " ('PorterStarke', 'seroquel', 9493),\n",
       " ('SVTN', 'seroquel', 6085),\n",
       " ('UCDenver', 'lithium', 511),\n",
       " ('UnivColoradoHospital', 'seroquel', 1581),\n",
       " ('WestCentral', 'depakote', 360),\n",
       " ('Westchester', 'seroquel', 18688)]"
      ]
     },
     "execution_count": 228,
     "metadata": {},
     "output_type": "execute_result"
    }
   ],
   "source": [
    "lst"
   ]
  },
  {
   "cell_type": "code",
   "execution_count": 231,
   "metadata": {},
   "outputs": [
    {
     "name": "stdout",
     "output_type": "stream",
     "text": [
      "The most common psych meds for patients with Bipolar Disorder in each hospital differs as below:\n"
     ]
    },
    {
     "data": {
      "text/plain": [
       "[('ArapahoeHouse', 'abilify', 556),\n",
       " ('Boulder County', 'abilify', 24),\n",
       " ('CampagnaAcademy', 'vyvanse', 1359),\n",
       " ('Columbia', 'lithium', 1591),\n",
       " ('Duke', 'depakote', 7065),\n",
       " ('DukeCCFH', 'abilify', 120),\n",
       " ('GrantBlackford', 'abilify', 2824),\n",
       " ('LifeSpring', 'seroquel', 8441),\n",
       " ('MONTEPROD', 'depakote', 7249),\n",
       " ('PorterStarke', 'seroquel', 9493),\n",
       " ('SVTN', 'seroquel', 6085),\n",
       " ('UCDenver', 'lithium', 511),\n",
       " ('UnivColoradoHospital', 'seroquel', 1581),\n",
       " ('WestCentral', 'depakote', 360),\n",
       " ('Westchester', 'seroquel', 18688)]"
      ]
     },
     "execution_count": 231,
     "metadata": {},
     "output_type": "execute_result"
    }
   ],
   "source": [
    "print('The most common psych meds for patients with Bipolar Disorder in each hospital differs as below:')\n",
    "lst"
   ]
  },
  {
   "cell_type": "code",
   "execution_count": 1,
   "metadata": {},
   "outputs": [],
   "source": [
    "from pyspark.sql import SparkSession\n",
    "from pyspark.sql.functions import *"
   ]
  },
  {
   "cell_type": "code",
   "execution_count": 2,
   "metadata": {},
   "outputs": [],
   "source": [
    "spark = SparkSession \\\n",
    "    .builder \\\n",
    "    .appName(\"Python Spark SQL basic example\") \\\n",
    "    .config(\"spark.some.config.option\", \"some-value\") \\\n",
    "    .getOrCreate()"
   ]
  },
  {
   "cell_type": "code",
   "execution_count": 3,
   "metadata": {},
   "outputs": [],
   "source": [
    "mdsql = spark.read.csv(\"VDL2011_Meds.txt\",header =True)"
   ]
  },
  {
   "cell_type": "code",
   "execution_count": 4,
   "metadata": {},
   "outputs": [],
   "source": [
    "mdsql.createOrReplaceTempView(\"mdsql\")"
   ]
  },
  {
   "cell_type": "code",
   "execution_count": 3,
   "metadata": {},
   "outputs": [],
   "source": [
    "#mdsql = spark.sql(\"select siteID, BackgroundID, ednum, Medication, Onset from mdsql where PsyMed = 'Yes' AND siteID='ArapahoeHouse' \")\n",
    "#mdsql.toPandas().to_csv('mycsv1.txt')\n",
    "mdsql = spark.read.csv(\"mycsv1.txt\",header =True)"
   ]
  },
  {
   "cell_type": "code",
   "execution_count": null,
   "metadata": {},
   "outputs": [],
   "source": [
    "# Question 9:\n",
    "# You have a good-sized collection of data in front of you. \n",
    "# Find some interesting patterns. \n",
    "# The Clinical Global Impressions (CGI) Scales are used to quickly indicate severity \n",
    "# and improvement (since first treatment) of a patient. What inferences can we make about \n",
    "# specific medications given the CGI scores? Formulate some hypotheses and test them using the data."
   ]
  },
  {
   "cell_type": "code",
   "execution_count": 5,
   "metadata": {},
   "outputs": [],
   "source": [
    "mdsql.createOrReplaceTempView(\"mdsql\")"
   ]
  },
  {
   "cell_type": "code",
   "execution_count": 7,
   "metadata": {},
   "outputs": [],
   "source": [
    "cgi = spark.read.csv(\"VDL2011_CGI.txt\",header =True)"
   ]
  },
  {
   "cell_type": "code",
   "execution_count": 8,
   "metadata": {},
   "outputs": [],
   "source": [
    "cgi.createOrReplaceTempView(\"cgi\")"
   ]
  },
  {
   "cell_type": "code",
   "execution_count": 9,
   "metadata": {},
   "outputs": [],
   "source": [
    "#cgisql = spark.sql(\"select * from cgi where cgi.Improvement <> 'None' AND cgi.Severity <> 'None'\")\n",
    "#cgisql.toPandas().to_csv('mycsv2.txt')\n",
    "cgisql = spark.read.csv(\"mycsv2.txt\",header =True)"
   ]
  },
  {
   "cell_type": "code",
   "execution_count": 11,
   "metadata": {},
   "outputs": [],
   "source": [
    "mdsql9 = spark.sql(\"select siteID, BackgroundID, ednum, Medication, Onset from mdsql\")\n",
    "mdrdd = mdsql9.rdd.map(tuple)"
   ]
  },
  {
   "cell_type": "code",
   "execution_count": 13,
   "metadata": {
    "scrolled": true
   },
   "outputs": [
    {
     "data": {
      "text/plain": [
       "[('clorazepate', (('ArapahoeHouse', '3', '36581'),)),\n",
       " ('clorazepate', (('ArapahoeHouse', '3', '57245'),)),\n",
       " ('clorazepate', (('ArapahoeHouse', '3', '67801'),)),\n",
       " ('clorazepate', (('ArapahoeHouse', '3', '91441'),)),\n",
       " ('clorazepate', (('ArapahoeHouse', '3', '93834'),)),\n",
       " ('clorazepate', (('ArapahoeHouse', '3', '105206'),)),\n",
       " ('clorazepate', (('ArapahoeHouse', '3', '113172'),)),\n",
       " ('clorazepate', (('ArapahoeHouse', '3', '154609'),)),\n",
       " ('clorazepate', (('ArapahoeHouse', '3', '166231'),)),\n",
       " ('clorazepate', (('ArapahoeHouse', '3', '188298'),))]"
      ]
     },
     "execution_count": 13,
     "metadata": {},
     "output_type": "execute_result"
    }
   ],
   "source": [
    "from string import punctuation\n",
    "def q7map1(s):\n",
    "    for i in range(0,len(s)):\n",
    "        return s[3].split(' ')[0].lower(),s[0:3]\n",
    "\n",
    "def q7map2(s):\n",
    "    for i in range(0,len(s)):\n",
    "        return s[0].split('-')[0].strip(punctuation),s[1:]\n",
    "\n",
    "mdrdd1 = mdrdd.map(q7map1)\n",
    "mdrdd2 = mdrdd1.map(q7map2)\n",
    "mdrdd2.take(10)"
   ]
  },
  {
   "cell_type": "code",
   "execution_count": 14,
   "metadata": {},
   "outputs": [],
   "source": [
    "mdcleaned = mdrdd2.map(lambda x: (x[0], x[1][0][0] , x[1][0][1],x[1][0][2])).toDF([\"Medication\",\"siteID\",\"BackgroundID\",\"ednum\"])"
   ]
  },
  {
   "cell_type": "code",
   "execution_count": 15,
   "metadata": {},
   "outputs": [],
   "source": [
    "mdcleaned.createOrReplaceTempView(\"mdcleaned\")"
   ]
  },
  {
   "cell_type": "code",
   "execution_count": 16,
   "metadata": {},
   "outputs": [],
   "source": [
    "cgisql.createOrReplaceTempView(\"cgisql\")"
   ]
  },
  {
   "cell_type": "code",
   "execution_count": 25,
   "metadata": {},
   "outputs": [],
   "source": [
    "mdsql9.createOrReplaceTempView(\"mdsql9\")"
   ]
  },
  {
   "cell_type": "code",
   "execution_count": 26,
   "metadata": {},
   "outputs": [],
   "source": [
    "mdsql9 = spark.sql(\"select *, lower(Medication) as lower_Medication from mdsql9\")\n",
    "mdsql9.createOrReplaceTempView(\"mdsql9\")"
   ]
  },
  {
   "cell_type": "code",
   "execution_count": 23,
   "metadata": {},
   "outputs": [],
   "source": [
    "cgijoin = spark.sql(\"select mdcleaned.Medication, cgisql.* from cgisql inner join mdcleaned on cgisql.siteId = mdcleaned.siteID AND cgisql.BackgroundID = mdcleaned.BackgroundID AND cgisql.ednum = mdcleaned.ednum\")\n"
   ]
  },
  {
   "cell_type": "code",
   "execution_count": 25,
   "metadata": {
    "scrolled": true
   },
   "outputs": [],
   "source": [
    "cgijoin.createOrReplaceTempView(\"cgijoin\")"
   ]
  },
  {
   "cell_type": "code",
   "execution_count": 26,
   "metadata": {},
   "outputs": [],
   "source": [
    "cgigroup = spark.sql(\"select Medication,Severity,avg(Improvement) AS meanimp from cgijoin group by Medication,Severity\")\n",
    "cgigroup.createOrReplaceTempView(\"cgigroup\")"
   ]
  },
  {
   "cell_type": "code",
   "execution_count": 28,
   "metadata": {},
   "outputs": [],
   "source": [
    "severity1 = spark.sql(\"select * from cgigroup where Severity='1'\")"
   ]
  },
  {
   "cell_type": "code",
   "execution_count": 42,
   "metadata": {
    "collapsed": true
   },
   "outputs": [
    {
     "ename": "NameError",
     "evalue": "name 'severity' is not defined",
     "output_type": "error",
     "traceback": [
      "\u001b[0;31m---------------------------------------------------------------------------\u001b[0m",
      "\u001b[0;31mNameError\u001b[0m                                 Traceback (most recent call last)",
      "\u001b[0;32m<ipython-input-42-6dedbe0fe76d>\u001b[0m in \u001b[0;36m<module>\u001b[0;34m\u001b[0m\n\u001b[0;32m----> 1\u001b[0;31m \u001b[0mseverity\u001b[0m\u001b[0;34m.\u001b[0m\u001b[0mcreateOrReplaceTempView\u001b[0m\u001b[0;34m(\u001b[0m\u001b[0;34m\"severity\"\u001b[0m\u001b[0;34m)\u001b[0m\u001b[0;34m\u001b[0m\u001b[0;34m\u001b[0m\u001b[0m\n\u001b[0m",
      "\u001b[0;31mNameError\u001b[0m: name 'severity' is not defined"
     ]
    }
   ],
   "source": [
    "severity.createOrReplaceTempView(\"severity\")\n"
   ]
  },
  {
   "cell_type": "code",
   "execution_count": 40,
   "metadata": {},
   "outputs": [],
   "source": [
    "describe = spark.sql(\"select Severity, avg(meanimp) as mean_imp,max(meanimp) as max_imp, min(meanimp) as min_imp from cgigroup group by Severity\")\n",
    "describe.createOrReplaceTempView(\"describe\")\n"
   ]
  },
  {
   "cell_type": "code",
   "execution_count": null,
   "metadata": {},
   "outputs": [],
   "source": [
    "max = spark.sql(\"select Severity, max(meanimp) as max_imp from cgigroup group by Severity\")"
   ]
  },
  {
   "cell_type": "code",
   "execution_count": 46,
   "metadata": {},
   "outputs": [],
   "source": [
    "medications = spark.sql(\"select * , (case when (Severity='7' and meanimp=7.0 ) then 1 else 0 end) as max_flag from cgigroup\")\n",
    "medications.createOrReplaceTempView(\"medications\")\n",
    "medications = spark.sql(\"select *  from medications where max_flag=1\")\n",
    "medications.createOrReplaceTempView(\"medications\")\n"
   ]
  },
  {
   "cell_type": "code",
   "execution_count": 53,
   "metadata": {},
   "outputs": [],
   "source": [
    "medications = spark.sql(\"select * , (case when (Severity='7' and meanimp=7.0 ) or (Severity='6' and meanimp=6 ) or (Severity='5' and meanimp=7.0) or (Severity='4' and meanimp=4.3076923076923075) or (Severity='3' and meanimp=4.0) or (Severity='2' and meanimp=4.0) or  (Severity='1' and meanimp=4.0) then 1 else 0 end) as max_flag from cgigroup\")\n",
    "medications.createOrReplaceTempView(\"medications\")\n",
    "medications = spark.sql(\"select *  from medications where max_flag=1 order by Severity\")\n",
    "medications.createOrReplaceTempView(\"medications\")\n"
   ]
  },
  {
   "cell_type": "code",
   "execution_count": 54,
   "metadata": {},
   "outputs": [
    {
     "data": {
      "text/plain": [
       "[Row(Medication='librax', Severity='1', meanimp=4.0, max_flag=1),\n",
       " Row(Medication='periactin', Severity='2', meanimp=4.0, max_flag=1),\n",
       " Row(Medication='cyproheptadine', Severity='2', meanimp=4.0, max_flag=1),\n",
       " Row(Medication='buprenorphine', Severity='2', meanimp=4.0, max_flag=1),\n",
       " Row(Medication='cytomel', Severity='3', meanimp=4.0, max_flag=1),\n",
       " Row(Medication='galantamine', Severity='3', meanimp=4.0, max_flag=1),\n",
       " Row(Medication='acamprosate', Severity='4', meanimp=4.3076923076923075, max_flag=1),\n",
       " Row(Medication='naltrexone', Severity='5', meanimp=7.0, max_flag=1),\n",
       " Row(Medication='focalin', Severity='6', meanimp=6.0, max_flag=1),\n",
       " Row(Medication='invega', Severity='7', meanimp=7.0, max_flag=1),\n",
       " Row(Medication='ondansetron', Severity='7', meanimp=7.0, max_flag=1),\n",
       " Row(Medication='campral', Severity='7', meanimp=7.0, max_flag=1),\n",
       " Row(Medication='zyprexa', Severity='7', meanimp=7.0, max_flag=1),\n",
       " Row(Medication='dilaudid', Severity='7', meanimp=7.0, max_flag=1),\n",
       " Row(Medication='percocet', Severity='7', meanimp=7.0, max_flag=1),\n",
       " Row(Medication='divalproex', Severity='7', meanimp=7.0, max_flag=1),\n",
       " Row(Medication='naltrexone', Severity='7', meanimp=7.0, max_flag=1)]"
      ]
     },
     "execution_count": 54,
     "metadata": {},
     "output_type": "execute_result"
    }
   ],
   "source": [
    "medications.take(100)"
   ]
  },
  {
   "cell_type": "code",
   "execution_count": null,
   "metadata": {},
   "outputs": [],
   "source": []
  }
 ],
 "metadata": {
  "kernelspec": {
   "display_name": "Python 3",
   "language": "python",
   "name": "python3"
  },
  "language_info": {
   "codemirror_mode": {
    "name": "ipython",
    "version": 3
   },
   "file_extension": ".py",
   "mimetype": "text/x-python",
   "name": "python",
   "nbconvert_exporter": "python",
   "pygments_lexer": "ipython3",
   "version": "3.7.1"
  }
 },
 "nbformat": 4,
 "nbformat_minor": 2
}
